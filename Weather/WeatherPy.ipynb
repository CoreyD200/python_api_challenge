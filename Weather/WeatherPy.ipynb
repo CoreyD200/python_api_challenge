{
 "cells": [
  {
   "cell_type": "markdown",
   "metadata": {},
   "source": [
    "# WeatherPy"
   ]
  },
  {
   "cell_type": "markdown",
   "metadata": {},
   "source": [
    "Intent: Evaluate various weather data points across the world. Attempt to identify correlation between tempertaure, humidity, cloudiness and windspeed across various longitudes and latitudes"
   ]
  },
  {
   "cell_type": "code",
   "execution_count": 59,
   "metadata": {},
   "outputs": [],
   "source": [
    "#import dependencies\n",
    "\n",
    "import pandas as pd\n",
    "import matplotlib as plt\n",
    "import citipy as citi\n",
    "import requests\n",
    "import json\n",
    "import gmaps\n",
    "import random\n",
    "#from config import OWkey\n"
   ]
  },
  {
   "cell_type": "markdown",
   "metadata": {},
   "source": [
    "## Find 500 random cities across the globe "
   ]
  },
  {
   "cell_type": "code",
   "execution_count": 48,
   "metadata": {},
   "outputs": [
    {
     "data": {
      "text/plain": [
       "519"
      ]
     },
     "execution_count": 48,
     "metadata": {},
     "output_type": "execute_result"
    }
   ],
   "source": [
    "# import citipy module which allows you to search nearest city using lat/long\n",
    "from citipy import citipy\n",
    "\n",
    "\n",
    "# set up initial values and lists\n",
    "lat = 22 \n",
    "long = 45\n",
    "city_name = []\n",
    "country_code = []\n",
    "\n",
    "# Create loop to grab city, country and lat long for 500 cities\n",
    "\n",
    "for n in range(1200):\n",
    "    city = citipy.nearest_city(lat,long)\n",
    "    country = city.country_code\n",
    "    city = city.city_name\n",
    "    \n",
    "    \n",
    "    if city not in city_name:\n",
    "    \n",
    "        city_name.append(city)\n",
    "        country_code.append(country)\n",
    "    \n",
    "    \n",
    "    # get random lat and random long (dependcy \"import random\")\n",
    "    lat = random.randrange(-90,90,1)\n",
    "    long = random.randrange(-180,180,1)\n",
    "    \n",
    "len(city_name)"
   ]
  },
  {
   "cell_type": "code",
   "execution_count": 49,
   "metadata": {},
   "outputs": [
    {
     "data": {
      "text/html": [
       "<div>\n",
       "<style scoped>\n",
       "    .dataframe tbody tr th:only-of-type {\n",
       "        vertical-align: middle;\n",
       "    }\n",
       "\n",
       "    .dataframe tbody tr th {\n",
       "        vertical-align: top;\n",
       "    }\n",
       "\n",
       "    .dataframe thead th {\n",
       "        text-align: right;\n",
       "    }\n",
       "</style>\n",
       "<table border=\"1\" class=\"dataframe\">\n",
       "  <thead>\n",
       "    <tr style=\"text-align: right;\">\n",
       "      <th></th>\n",
       "      <th>city</th>\n",
       "      <th>country</th>\n",
       "    </tr>\n",
       "  </thead>\n",
       "  <tbody>\n",
       "    <tr>\n",
       "      <th>0</th>\n",
       "      <td>riyadh</td>\n",
       "      <td>sa</td>\n",
       "    </tr>\n",
       "    <tr>\n",
       "      <th>1</th>\n",
       "      <td>hobart</td>\n",
       "      <td>au</td>\n",
       "    </tr>\n",
       "    <tr>\n",
       "      <th>2</th>\n",
       "      <td>mocuba</td>\n",
       "      <td>mz</td>\n",
       "    </tr>\n",
       "    <tr>\n",
       "      <th>3</th>\n",
       "      <td>haines junction</td>\n",
       "      <td>ca</td>\n",
       "    </tr>\n",
       "    <tr>\n",
       "      <th>4</th>\n",
       "      <td>beringovskiy</td>\n",
       "      <td>ru</td>\n",
       "    </tr>\n",
       "  </tbody>\n",
       "</table>\n",
       "</div>"
      ],
      "text/plain": [
       "              city country\n",
       "0           riyadh      sa\n",
       "1           hobart      au\n",
       "2           mocuba      mz\n",
       "3  haines junction      ca\n",
       "4     beringovskiy      ru"
      ]
     },
     "execution_count": 49,
     "metadata": {},
     "output_type": "execute_result"
    }
   ],
   "source": [
    "# create DataFrame containing city, country, original lat/long entry\n",
    "\n",
    "data= {'city': city_name,\n",
    "       'country': country_code       }\n",
    "\n",
    "cityDF= pd.DataFrame(data)\n",
    "cityDF.head()"
   ]
  },
  {
   "cell_type": "markdown",
   "metadata": {},
   "source": [
    "## API calls to OpenWeatherMap"
   ]
  },
  {
   "cell_type": "code",
   "execution_count": 71,
   "metadata": {},
   "outputs": [],
   "source": [
    "# use weather data from OpenWeatherMap API\n",
    "APIKEY = 'afa48868f123bfcd2ee9acefcf6c6d12'\n",
    "url = \"http://api.openweathermap.org/data/2.5/weather?units=Imperial&APPID=\" + APIKEY+\"&q=\"\n",
    "\n",
    "\n"
   ]
  },
  {
   "cell_type": "code",
   "execution_count": 72,
   "metadata": {},
   "outputs": [
    {
     "name": "stdout",
     "output_type": "stream",
     "text": [
      "{\n",
      "    \"base\": \"stations\",\n",
      "    \"clouds\": {\n",
      "        \"all\": 1\n",
      "    },\n",
      "    \"cod\": 200,\n",
      "    \"coord\": {\n",
      "        \"lat\": 39.74,\n",
      "        \"lon\": -104.98\n",
      "    },\n",
      "    \"dt\": 1579577700,\n",
      "    \"id\": 5419384,\n",
      "    \"main\": {\n",
      "        \"feels_like\": 26.2,\n",
      "        \"humidity\": 54,\n",
      "        \"pressure\": 1026,\n",
      "        \"temp\": 33.58,\n",
      "        \"temp_max\": 37.99,\n",
      "        \"temp_min\": 28.4\n",
      "    },\n",
      "    \"name\": \"Denver\",\n",
      "    \"sys\": {\n",
      "        \"country\": \"US\",\n",
      "        \"id\": 3958,\n",
      "        \"sunrise\": 1579529818,\n",
      "        \"sunset\": 1579565059,\n",
      "        \"type\": 1\n",
      "    },\n",
      "    \"timezone\": -25200,\n",
      "    \"visibility\": 16093,\n",
      "    \"weather\": [\n",
      "        {\n",
      "            \"description\": \"clear sky\",\n",
      "            \"icon\": \"01n\",\n",
      "            \"id\": 800,\n",
      "            \"main\": \"Clear\"\n",
      "        }\n",
      "    ],\n",
      "    \"wind\": {\n",
      "        \"deg\": 216,\n",
      "        \"speed\": 4.03\n",
      "    }\n",
      "}\n"
     ]
    }
   ],
   "source": [
    "params = { \"city name\":city_name,\n",
    "         \"country code\": country_code}\n",
    "\n",
    "response = requests.get(url+\"Denver\")\n",
    "data=response.json()\n",
    "print(json.dumps(data, indent=4, sort_keys=True))"
   ]
  },
  {
   "cell_type": "code",
   "execution_count": 80,
   "metadata": {},
   "outputs": [
    {
     "name": "stdout",
     "output_type": "stream",
     "text": [
      "Denver\n",
      "54\n",
      "39.74\n",
      "33.58\n",
      "1\n",
      "4.03\n"
     ]
    }
   ],
   "source": [
    "print(data[\"name\"])\n",
    "print(data[\"main\"][\"humidity\"])\n",
    "print(data['coord']['lat'])\n",
    "print(data[\"main\"][\"temp\"])\n",
    "print(data[\"clouds\"][\"all\"])\n",
    "print(data[\"wind\"][\"speed\"])"
   ]
  },
  {
   "cell_type": "code",
   "execution_count": null,
   "metadata": {},
   "outputs": [],
   "source": []
  }
 ],
 "metadata": {
  "kernelspec": {
   "display_name": "Python 3",
   "language": "python",
   "name": "python3"
  },
  "language_info": {
   "codemirror_mode": {
    "name": "ipython",
    "version": 3
   },
   "file_extension": ".py",
   "mimetype": "text/x-python",
   "name": "python",
   "nbconvert_exporter": "python",
   "pygments_lexer": "ipython3",
   "version": "3.6.4"
  }
 },
 "nbformat": 4,
 "nbformat_minor": 2
}
